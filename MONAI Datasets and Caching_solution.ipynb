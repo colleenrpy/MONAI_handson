{
  "cells": [
    {
      "cell_type": "markdown",
      "metadata": {
        "id": "view-in-github",
        "colab_type": "text"
      },
      "source": [
        "<a href=\"https://colab.research.google.com/github/colleenrpy/MONAI_handson/blob/main/MONAI%20Datasets%20and%20Caching_solution.ipynb\" target=\"_parent\"><img src=\"https://colab.research.google.com/assets/colab-badge.svg\" alt=\"Open In Colab\"/></a>"
      ]
    },
    {
      "cell_type": "markdown",
      "metadata": {
        "id": "PY4xdsvjY5sc"
      },
      "source": [
        "<img src=\"https://github.com/Project-MONAI/MONAIBootcamp2021/blob/main/day1/monai.png?raw=1\" style=\"width: 700px;\"/>\n",
        "\n",
        "MONAIハンズオンセミナーへようこそ! このノートブックでは、MONAI Caching, Datasets and Network オプションを紹介し、次にハンズオンとアーキテクチャ、そしてテストデータセットにSmartCacheをインプリメントするハンズオンを行います。"
      ]
    },
    {
      "cell_type": "markdown",
      "metadata": {
        "id": "L2ZpjG8PY5sf"
      },
      "source": [
        "### Google Colabの使用\n",
        "\n",
        "このノートブックにはMONAIをインストールするためのpipコマンドがあり、それ以降のノートブックには追加されます。\n",
        "\n",
        "**Colabの実行に必要なパッケージ**。\n",
        "\n",
        "colabノートブックの初回実行時にMONAIをインストールするために、以下のセルを実行します：\n"
      ]
    },
    {
      "cell_type": "code",
      "execution_count": null,
      "metadata": {
        "id": "3t6v5oEnY5sf"
      },
      "outputs": [],
      "source": [
        "!pip install -qU \"monai[ignite, nibabel, torchvision, tqdm]==0.6.0\""
      ]
    },
    {
      "cell_type": "markdown",
      "metadata": {
        "id": "40d_TYemY5sg"
      },
      "source": [
        "**GPUサポートの有効化**\n",
        "\n",
        "ColabでGPUリソースを使用するには、ランタイムをGPUに変更します。\n",
        "\n",
        "1. 1. \"Runtime \"**メニューから、**\"Change Runtime Type \"**を選択します。\n",
        "2. ドロップダウン・メニューから **\"GPU \"** を選択します。\n",
        "3. **\"SAVE \"**をクリックします。\n",
        "\n",
        "これにより、ノートブックがリセットされ、おそらくあなたがロボットであるかどうか尋ねられるでしょう（この手順は、あなたがそうでないと仮定しています）。\n",
        "\n",
        "**!nvidia-smi**\n",
        "\n",
        "をセルで実行すると、これがうまくいったかどうかが確認でき、あなたがどのようなハードウェアにアクセスできるかがわかります。  "
      ]
    },
    {
      "cell_type": "code",
      "execution_count": null,
      "metadata": {
        "id": "WR5tvS8tY5sg"
      },
      "outputs": [],
      "source": [
        "!nvidia-smi"
      ]
    },
    {
      "cell_type": "markdown",
      "metadata": {
        "id": "4kZBOqnNY5sg"
      },
      "source": [
        "# MONAIデータセット、キャッシング、ネットワークを理解\n",
        "---"
      ]
    },
    {
      "cell_type": "markdown",
      "metadata": {
        "id": "lb0g6gh0Y5sh"
      },
      "source": [
        "ユーザーは、望ましいモデル品質を達成するために、データに対して多くの（潜在的には数千の）エポックを用いてモデルを学習する必要があることがよくあります。PyTorchのネイティブ実装では、学習中にデータをロードし、エポックごとに同じ前処理を繰り返し実行することがありますが、これは特に医療画像のボリュームが大きい場合、時間がかかり、不要になることがあります。 データセットキャッシングを利用することで、システムがこのデータをロードして前処理を行う時間を短縮し、全体の学習時間を短縮することができます。\n",
        "\n",
        "ネットワーク機能は、MONAIにとって重要な設計機会です。Pytorchは、ネットワークをどのように定義するかについて、非常に独創的な考え方を持っています。ネットワークを作成するための基本クラスとしてModuleを提供し、実装しなければならないいくつかのメソッドを提供します。しかし、ネットワークを初期化するための所定のパターンやヘルパー機能はあまりありません。\n",
        "\n",
        "ヘルパー機能がないため、MONAI で新しいネットワークを構築するための有益な「ベストプラクティス」パターンを定義する余地が多く残されています。些細な、柔軟性に欠けるネットワークの実装は十分に簡単ですが、私たちはユーザーに、よく設計された柔軟なネットワークをはるかに容易に構築できるツールセットを提供し、構築したネットワークでそれを使用することを約束することによって、その価値を実証することができます。\n",
        "\n",
        "## MONAIデータセット、キャッシング、ネットワーク\n",
        "\n",
        "MONAI データセットとキャッシングオプションについてより深く理解するために、このガイドでは5つの重要な質問に答えることを手伝います：\n",
        "\n",
        "1. **MONAI データセットとは何か？**\n",
        "2. **データセットキャッシングとは何か、どのように使うのか？**\n",
        "3. **MONAI が提供する一般的なデータセットには、どのようなものがありますか？**\n",
        "4. **MONAI はどのようなネットワークとネットワークコンポーネントを提供していますか？**\n",
        "5. **MONAI のレイヤーはどのように使用するのですか？**\n",
        "6. **この柔軟なレイヤーを使って、どのようにネットワークを構築するのですか？**\n",
        "7. **どのようなネットワークがMONAIに含まれていますか？**"
      ]
    },
    {
      "cell_type": "markdown",
      "metadata": {
        "id": "Woh28nAmY5sh"
      },
      "source": [
        "\n",
        "まずは、dependenciesをインポートしてみましょう。"
      ]
    },
    {
      "cell_type": "code",
      "execution_count": null,
      "metadata": {
        "id": "4Cj7tuR5Y5sh",
        "outputId": "d4f5ec15-2cc5-4114-d91e-7e5acbf552a2"
      },
      "outputs": [
        {
          "name": "stdout",
          "output_type": "stream",
          "text": [
            "MONAI version: 0.6.0\n",
            "Numpy version: 1.20.3\n",
            "Pytorch version: 1.8.1+cu102\n",
            "MONAI flags: HAS_EXT = False, USE_COMPILED = False\n",
            "MONAI rev id: 0ad9e73639e30f4f1af5a1f4a45da9cb09930179\n",
            "\n",
            "Optional dependencies:\n",
            "Pytorch Ignite version: 0.4.4\n",
            "Nibabel version: 3.2.1\n",
            "scikit-image version: 0.18.1\n",
            "Pillow version: 8.2.0\n",
            "Tensorboard version: 2.5.0\n",
            "gdown version: 3.13.0\n",
            "TorchVision version: 0.9.1+cu102\n",
            "ITK version: 5.1.2\n",
            "tqdm version: 4.61.0\n",
            "lmdb version: 1.2.1\n",
            "psutil version: 5.8.0\n",
            "pandas version: 1.2.4\n",
            "einops version: NOT INSTALLED or UNKNOWN VERSION.\n",
            "\n",
            "For details about installing the optional dependencies, please visit:\n",
            "    https://docs.monai.io/en/latest/installation.html#installing-the-recommended-dependencies\n",
            "\n"
          ]
        }
      ],
      "source": [
        "import time\n",
        "import torch\n",
        "\n",
        "import monai\n",
        "from monai.config import print_config\n",
        "from monai.data import Dataset, DataLoader, CacheDataset, PersistentDataset, SmartCacheDataset\n",
        "from monai.apps import DecathlonDataset\n",
        "from monai.transforms import (\n",
        "    MapTransform,\n",
        ")\n",
        "\n",
        "print_config()"
      ]
    },
    {
      "cell_type": "markdown",
      "metadata": {
        "id": "bWVmK1qcY5si"
      },
      "source": [
        "## **1. What is a MONAI Dataset?**\n"
      ]
    },
    {
      "cell_type": "markdown",
      "metadata": {
        "id": "9op5uVKCY5sj"
      },
      "source": [
        "MONAI データセットは、一般的なデータセットで、 __len__ プロパティ、 __getitem__ プロパティ、そしてデータサンプルを取得するときのオプションとして呼び出し可能なデータ変換を備えています。\n",
        "\n",
        "まず、汎用データを初期化し、その汎用データで Dataset クラスを呼び出し、変換に None を指定します。"
      ]
    },
    {
      "cell_type": "code",
      "execution_count": null,
      "metadata": {
        "id": "Ltj-HSbKY5sj"
      },
      "outputs": [],
      "source": [
        "items = [{\"data\": 4}, \n",
        "         {\"data\": 9}, \n",
        "         {\"data\": 3}, \n",
        "         {\"data\": 7}, \n",
        "         {\"data\": 1},\n",
        "         {\"data\": 2},\n",
        "         {\"data\": 5}]\n",
        "dataset = monai.data.Dataset(items, transform=None)\n",
        "\n",
        "print(f\"Length of dataset is {len(dataset)}\")\n",
        "for item in dataset:\n",
        "    print(item)"
      ]
    },
    {
      "cell_type": "markdown",
      "metadata": {
        "id": "lePQMft3Y5sj"
      },
      "source": [
        "#### PyTorch DataLoaderとの互換性\n",
        "\n",
        "MONAIの機能はPyTorch DataLoaderと互換性があるべきですが、標準のDataLoaderクラスでは実現できない、我々が重要だと考える追加機能があれば、自由にサブクラス化することが可能です。"
      ]
    },
    {
      "cell_type": "code",
      "execution_count": null,
      "metadata": {
        "id": "6PyLb7GOY5sj"
      },
      "outputs": [],
      "source": [
        "for item in torch.utils.data.DataLoader(dataset, batch_size=2):\n",
        "    print(item)"
      ]
    },
    {
      "cell_type": "markdown",
      "metadata": {
        "id": "U0blP6heY5sj"
      },
      "source": [
        "### カスタマイズしたトランスフォームでアイテムをロードする\n",
        "\n",
        "入力の `keys` に対応する値を二乗した値に置き換える、 `SquareIt` というカスタムトランスフォームを作成します。この例では、 `SquareIt(keys='data')` は `x['data']` の値に二乗変換を適用します。"
      ]
    },
    {
      "cell_type": "code",
      "execution_count": null,
      "metadata": {
        "id": "MwfLn44XY5sk"
      },
      "outputs": [],
      "source": [
        "class SquareIt(MapTransform):\n",
        "    def __init__(self, keys):\n",
        "        MapTransform.__init__(self, keys)\n",
        "        print(f\"keys to square it: {self.keys}\")\n",
        "        \n",
        "    def __call__(self, x):\n",
        "        key = self.keys[0]\n",
        "        data = x[key]\n",
        "        output = {key: data ** 2}\n",
        "        return output\n",
        "\n",
        "square_dataset = Dataset(items, transform=SquareIt(keys='data'))\n",
        "for item in square_dataset:\n",
        "    print(item)"
      ]
    },
    {
      "cell_type": "markdown",
      "metadata": {
        "id": "lJbTc4WFY5sk"
      },
      "source": [
        "## **2. データセットキャッシュとは何ですか？**\n",
        "\n",
        " MONAIはマルチスレッド版の `CacheDataset` と `LMDBDataset` を提供し、変換チェーンにおける最初のランダム変換の前に中間結果を保存することで、学習中の変換ステップを高速化することができます。この機能を有効にすることで、Datasetsの実験では10倍の学習速度が得られる可能性があります。\n",
        " \n",
        "<img src=\"https://github.com/Project-MONAI/MONAIBootcamp2021/blob/main/day1/cache_dataset.png?raw=1\" style=\"width: 700px;\"/>\n",
        " \n",
        "データセットキャッシュの利点を示すために、低速な変換を行うデータセットを作成することにします。 そのために、各 `__call__` 関数の中で sleep 関数を呼び出すことにします。"
      ]
    },
    {
      "cell_type": "code",
      "execution_count": null,
      "metadata": {
        "id": "Jpf5iu8RY5sk"
      },
      "outputs": [],
      "source": [
        "class SlowSquare(MapTransform):\n",
        "    def __init__(self, keys):\n",
        "        MapTransform.__init__(self, keys)\n",
        "        print(f\"keys to square it: {self.keys}\")\n",
        "\n",
        "    def __call__(self, x):\n",
        "        time.sleep(1.0)\n",
        "        output = {key: x[key] ** 2 for key in self.keys}\n",
        "        return output\n",
        "\n",
        "square_dataset = Dataset(items, transform=SlowSquare(keys='data'))"
      ]
    },
    {
      "cell_type": "markdown",
      "metadata": {
        "id": "L1thn0KpY5sk"
      },
      "source": [
        "予想の通り、全項目に目を通すと7秒くらいかかりそうですね。"
      ]
    },
    {
      "cell_type": "code",
      "execution_count": null,
      "metadata": {
        "id": "pmHPTIT9Y5sk"
      },
      "outputs": [],
      "source": [
        "%time for item in square_dataset: print(item)"
      ]
    },
    {
      "cell_type": "markdown",
      "metadata": {
        "id": "OhaZp-FuY5sk"
      },
      "source": [
        "このループを実行するたびに、すべてのアイテムを通過するのにおよそ7秒かかることになります。 これを100回繰り返すとすると、学習ループのロード時間が12分近く余計にかかることになります。 この時間を改善するために、キャッシュを利用する方法を考えてみましょう。"
      ]
    },
    {
      "cell_type": "markdown",
      "metadata": {
        "id": "bNMr7kbZY5sk"
      },
      "source": [
        "### Cache Dataset\n",
        "\n",
        "[CacheDataset](https://docs.monai.io/en/latest/data.html?highlight=dataset#cachedataset)を使用した場合、キャッシュはオブジェクトの初回初期化時に行われるため、通常のデータセットに比べ初期化が遅くなります。\n",
        "\n",
        "ランダムでない前処理変換の結果をキャッシュすることで、学習データのパイプラインを高速化することができます。要求されたデータがキャッシュにない場合、すべての変換が正常に実行されます。"
      ]
    },
    {
      "cell_type": "code",
      "execution_count": null,
      "metadata": {
        "id": "13WpjyFfY5sl"
      },
      "outputs": [],
      "source": [
        "square_cached = CacheDataset(items, transform=SlowSquare(keys='data'))"
      ]
    },
    {
      "cell_type": "markdown",
      "metadata": {
        "id": "lKUKrIaBY5sl"
      },
      "source": [
        "しかし、初期化されたCacheDatasetから繰り返し項目を取得することは高速です。"
      ]
    },
    {
      "cell_type": "code",
      "execution_count": null,
      "metadata": {
        "id": "bPv8boroY5sl"
      },
      "outputs": [],
      "source": [
        "%timeit list(item for item in square_cached)"
      ]
    },
    {
      "cell_type": "markdown",
      "metadata": {
        "id": "mVWgFAWxY5sl"
      },
      "source": [
        "### Persistent Caching\n",
        "\n",
        "[PersistentDataset](https://docs.monai.io/en/latest/data.html?highlight=dataset#persistentdataset) は、メモリより大きな辞書形式のデータを効率的に管理するために、事前に計算された値を永続的に保存することを可能にします。\n",
        "\n",
        "非ランダム変換成分は、最初に使用するときに計算され、次に使用するときに素早く取り出せるように cache_dir に保存されます。"
      ]
    },
    {
      "cell_type": "code",
      "execution_count": null,
      "metadata": {
        "id": "R2BD8FlWY5sl"
      },
      "outputs": [],
      "source": [
        "square_persist = monai.data.PersistentDataset(items, transform=SlowSquare(keys='data'), cache_dir=\"my_cache\")"
      ]
    },
    {
      "cell_type": "code",
      "execution_count": null,
      "metadata": {
        "id": "Fh6IdhSQY5sl"
      },
      "outputs": [],
      "source": [
        "%time for item in square_persist: print(item)"
      ]
    },
    {
      "cell_type": "markdown",
      "metadata": {
        "id": "QffmEjxyY5sl"
      },
      "source": [
        "PersistentDatasetの初期化時に、中間データを格納する場所をパラメータ \"my_cache \"で渡しました。以下、そのディレクトリを見ていきます。"
      ]
    },
    {
      "cell_type": "code",
      "execution_count": null,
      "metadata": {
        "id": "_Tl5wPHoY5sl"
      },
      "outputs": [],
      "source": [
        "!ls my_cache"
      ]
    },
    {
      "cell_type": "markdown",
      "metadata": {
        "id": "GEA7pB39Y5sm"
      },
      "source": [
        "次のエポックでは、データセットに呼び出す際に、低速変換を呼び出さず、キャッシュされたデータを使用します。"
      ]
    },
    {
      "cell_type": "code",
      "execution_count": null,
      "metadata": {
        "id": "COmnARG9Y5sm"
      },
      "outputs": [],
      "source": [
        "%timeit [item for item in square_persist]"
      ]
    },
    {
      "cell_type": "markdown",
      "metadata": {
        "id": "Jj80gEslY5sm"
      },
      "source": [
        "新しいデータセットインスタンスは、キャッシュデータを利用することができます："
      ]
    },
    {
      "cell_type": "code",
      "execution_count": null,
      "metadata": {
        "id": "x_jWd0ylY5sm"
      },
      "outputs": [],
      "source": [
        "square_persist_1 = monai.data.PersistentDataset(items, transform=SlowSquare(keys='data'), cache_dir=\"my_cache\")\n",
        "%timeit [item for item in square_persist_1]"
      ]
    },
    {
      "cell_type": "markdown",
      "metadata": {
        "id": "iI6I4yaKY5sm"
      },
      "source": [
        "#### キャッシュの動作\n",
        "- また、[SmartCacheDataset](https://docs.monai.io/en/latest/data.html#monai.data.SmartCacheDataset)を使って、少ないメモリ消費でトランスフォームのレイテンシを隠蔽することもできます。\n",
        "- データセットチュートリアルのノートブックには、MONAIにおけるキャッシュ機構の動作例と比較例があります: https://github.com/Project-MONAI/tutorials/blob/master/acceleration/dataset_type_performance.ipynb"
      ]
    },
    {
      "cell_type": "markdown",
      "metadata": {
        "id": "B5VhXco6Y5sm"
      },
      "source": [
        "<img src=\"https://github.com/Project-MONAI/MONAIBootcamp2021/blob/main/day1/datasets_speed.png?raw=1\" style=\"width: 700px;\"/>"
      ]
    },
    {
      "cell_type": "markdown",
      "metadata": {
        "id": "Di_MoUuiY5sm"
      },
      "source": [
        "## **3. MONAIで提供される共通データセットにはどのようなものがありますか？**"
      ]
    },
    {
      "cell_type": "markdown",
      "metadata": {
        "id": "kh_Uza81Y5sn"
      },
      "source": [
        "MONAIでは、医療分野の一般的な学習データをすぐに利用できるように、データ固有のDataset（MedNISTDataset、DecathlonDatasetなど）をいくつか提供しています。これらは、AWSストレージからのダウンロード、データファイルの抽出、変換による学習・評価項目の生成をサポートするものです。\n",
        "\n",
        "DecathlonDataset](https://docs.monai.io/en/latest/data.html?highlight=dataset#decathlon-datalist)関数は、このノートブックを通して説明された機能を活用します。 これらのデータセットは、上記で説明したCacheDatasetの拡張版です。"
      ]
    },
    {
      "cell_type": "code",
      "execution_count": null,
      "metadata": {
        "id": "hjuvDloGY5sn"
      },
      "outputs": [],
      "source": [
        "dataset = monai.apps.DecathlonDataset(root_dir=\"./\", task=\"Task09_Spleen\", section=\"training\", download=True)"
      ]
    },
    {
      "cell_type": "code",
      "execution_count": null,
      "metadata": {
        "id": "uKclAm5sY5sn"
      },
      "outputs": [],
      "source": [
        "print(dataset.get_properties(\"numTraining\"))\n",
        "print(dataset.get_properties(\"description\"))"
      ]
    },
    {
      "cell_type": "code",
      "execution_count": null,
      "metadata": {
        "id": "vTRdFSHPY5sn"
      },
      "outputs": [],
      "source": [
        "print(dataset[0]['image'].shape)\n",
        "print(dataset[0]['label'].shape)"
      ]
    },
    {
      "cell_type": "markdown",
      "metadata": {
        "id": "-LHV0KxRY5sn"
      },
      "source": [
        "## 4. **MONAI はどのようなネットワークとネットワークコンポーネントを提供しますか？**"
      ]
    },
    {
      "cell_type": "markdown",
      "metadata": {
        "id": "huSN5Q13Y5sn"
      },
      "source": [
        "MONAIは、Pytorchモジュール、Sequentialなどを直接継承したネットワークとそのコンポーネントの定義を提供します。これらの汎用ネットワークは、パラメータ化されたトポロジーを含み、容易に拡張することができます。また、MONAIの他の部分から独立しているので、既存の学習コードでネットワークを使用することができます。\n",
        "\n",
        "MONAIには、以下のサブモジュールがあります。\n",
        "- layers: 低レベルのレイヤーを定義し、次元や他の引数に基づいてPytorchやカスタムレイヤーを選択するためのファクトリーを定義する。\n",
        "- blocks: ネットワークを構成する再利用可能な特定の概念を定義する中レベルのビルディングブロック\n",
        "- nets: UNet、VNet、Densenetなど、一般的なアーキテクチャの完全なネットワーク定義。\n",
        "\n",
        "ブロックとネットワークは、LayerFactoryオブジェクトをカスタムレイヤーとPyTorchレイヤーの汎用ファクトリとして使用します。\n",
        "\n",
        "MONAIは、以下のような定義を行うブロックを提供します。\n",
        "- Convolution with activation and regularization：活性化と正則化を伴うコンボリューション\n",
        "- Residual units：残差ユニット\n",
        "- Squeeze/excitation：スクイーズ/エキサイテーション\n",
        "- Downsampling/upsampling：ダウンサンプリング・アップサンプリング\n",
        "- Subpixel convolutions：サブピクセルコンボリューション\n"
      ]
    },
    {
      "cell_type": "markdown",
      "metadata": {
        "id": "NvZjytKqY5sn"
      },
      "source": [
        "### MONAI Layersはどのように使いますか？"
      ]
    },
    {
      "cell_type": "code",
      "execution_count": null,
      "metadata": {
        "id": "Zn4LkvE7Y5so"
      },
      "outputs": [],
      "source": [
        "from monai.networks.layers import Conv, Act, split_args, Pool"
      ]
    },
    {
      "cell_type": "markdown",
      "metadata": {
        "id": "oLN-1peuY5so"
      },
      "source": [
        "### Convolutionの例\n",
        "\n",
        "[Conv](https://docs.monai.io/en/latest/networks.html#convolution) クラスは、第1引数に2つのオプションを持ちます。第2引数には、空間次元の数を `Conv[name, dimension]` のように指定する必要があります。"
      ]
    },
    {
      "cell_type": "code",
      "execution_count": null,
      "metadata": {
        "id": "AUoM3lPqY5so"
      },
      "outputs": [],
      "source": [
        "print(Conv[Conv.CONV, 1])\n",
        "print(Conv[Conv.CONV, 2])\n",
        "print(Conv[Conv.CONV, 3])\n",
        "print(Conv[Conv.CONVTRANS, 1])\n",
        "print(Conv[Conv.CONVTRANS, 2])\n",
        "print(Conv[Conv.CONVTRANS, 3])"
      ]
    },
    {
      "cell_type": "markdown",
      "metadata": {
        "id": "KQVY5p0qY5so"
      },
      "source": [
        "設定されたクラスは、\"バニラ \"PyTorchレイヤーです。レイヤーの引数を指定することで、それらのインスタンスを作成することができました："
      ]
    },
    {
      "cell_type": "code",
      "execution_count": null,
      "metadata": {
        "id": "Mjx_rOcXY5so"
      },
      "outputs": [],
      "source": [
        "print(Conv[Conv.CONV, 2](in_channels=1, out_channels=4, kernel_size=3))\n",
        "print(Conv[Conv.CONV, 3](in_channels=1, out_channels=4, kernel_size=3))"
      ]
    },
    {
      "cell_type": "markdown",
      "metadata": {
        "id": "_mBZ056OY5so"
      },
      "source": [
        "[Act](https://docs.monai.io/en/latest/networks.html#module-monai.networks.layers.Act) クラスは空間次元の情報を必要としませんが、追加の引数をサポートしています。\n"
      ]
    },
    {
      "cell_type": "code",
      "execution_count": null,
      "metadata": {
        "id": "4x294EZbY5so"
      },
      "outputs": [],
      "source": [
        "print(Act[Act.PRELU])\n",
        "Act[Act.PRELU](num_parameters=1, init=0.1)"
      ]
    },
    {
      "cell_type": "markdown",
      "metadata": {
        "id": "_xtfj1CxY5sp"
      },
      "source": [
        "これらは `(\"prelu\", {\"num_parameters\": 1, \"init\": 0.1})` のように `(type_name, arg_dict)` のtupleで完全に指定することができます："
      ]
    },
    {
      "cell_type": "code",
      "execution_count": null,
      "metadata": {
        "id": "9z9qeGb7Y5sp"
      },
      "outputs": [],
      "source": [
        "act_name, act_args = split_args((\"prelu\", {\"num_parameters\": 1, \"init\": 0.1}))\n",
        "Act[act_name](**act_args)"
      ]
    },
    {
      "cell_type": "markdown",
      "metadata": {
        "id": "MTPUmepmY5sp"
      },
      "source": [
        "## **5. これらのコンポーネントを使用して、どのようにネットワークを作成するのですか？**"
      ]
    },
    {
      "cell_type": "markdown",
      "metadata": {
        "id": "9vlQsK23Y5sp"
      },
      "source": [
        "### 柔軟な定義が可能なネットワーク\n",
        "\n",
        "これらの API を使用すると、ネットワークを柔軟に定義することができます。 以下では、 `Conv`、`Act`、`Pool` を利用した `MyNetwork` というクラスを作成します。 各 Network は `__init__` と `forward` 関数が必要です。"
      ]
    },
    {
      "cell_type": "code",
      "execution_count": null,
      "metadata": {
        "id": "d6Htmc7NY5sp"
      },
      "outputs": [],
      "source": [
        "class MyNetwork(torch.nn.Module):\n",
        "    \n",
        "  def __init__(self, dims=3, in_channels=1, out_channels=8, kernel_size=3, pool_kernel=2, act=\"relu\"):\n",
        "    super(MyNetwork, self).__init__()\n",
        "    # convolution\n",
        "    self.conv = Conv[Conv.CONV, dims](in_channels, out_channels, kernel_size=kernel_size)\n",
        "    # activation\n",
        "    act_type, act_args = split_args(act)\n",
        "    self.act = Act[act_type](**act_args)\n",
        "    # pooling\n",
        "    self.pool = Pool[Pool.MAX, dims](pool_kernel)\n",
        "  \n",
        "  def forward(self, x: torch.Tensor):\n",
        "    x = self.conv(x)\n",
        "    x = self.act(x)\n",
        "    x = self.pool(x)\n",
        "    return x"
      ]
    },
    {
      "cell_type": "markdown",
      "metadata": {
        "id": "q_s8wukdY5sp"
      },
      "source": [
        "このネットワーク定義は、2Dまたは3D入力をサポートするようにインスタンス化することができ、カーネルサイズも柔軟に変更することができます。 同じアーキテクチャの設計を異なるタスクに適用するときに便利で、2D、2.5D、3Dを簡単に切り替えることができます。\n",
        "\n",
        "MONAIのレイヤー、ブロック、ネットワークのほとんどは、`torch.nn.modules`の拡張であり、このパターンに従っています。これにより、どのようなPyTorchパイプラインとも互換性があり、ネットワーク設計にも柔軟に対応できる実装となっています。これらの微分可能なモジュールの現在のコレクションは、https://docs.monai.io/en/latest/networks.html にリストアップされています。"
      ]
    },
    {
      "cell_type": "code",
      "execution_count": null,
      "metadata": {
        "id": "WImGzTOiY5sp"
      },
      "outputs": [],
      "source": [
        "# default network instance\n",
        "default_net = MyNetwork()\n",
        "print(default_net)\n",
        "print(default_net(torch.ones(3, 1, 20, 20, 30)).shape)\n",
        "\n",
        "# 2D network instance\n",
        "elu_net = MyNetwork(dims=2, in_channels=3, act=(\"elu\", {\"inplace\": True}))\n",
        "print(elu_net)\n",
        "print(elu_net(torch.ones(3, 3, 24, 24)).shape)\n",
        "\n",
        "# 3D network instance with anisotropic kernels\n",
        "sigmoid_net = MyNetwork(3, in_channels=4, kernel_size=(3, 3, 1), act=\"sigmoid\")\n",
        "print(sigmoid_net)\n",
        "print(sigmoid_net(torch.ones(3, 4, 30, 30, 5)).shape)"
      ]
    },
    {
      "cell_type": "markdown",
      "metadata": {
        "id": "CLwx6x3mY5sv"
      },
      "source": [
        "MONAIは、以下を含めて20個以上のネットワークを提供しています：\n",
        "- UNet\n",
        "- VNet\n",
        "- AHNet\n",
        "- VGGのような回帰器、分類器、識別器、批評家\n",
        "- HighResNet\n",
        "- SENet"
      ]
    },
    {
      "cell_type": "markdown",
      "metadata": {
        "id": "IWP593fAY5sv"
      },
      "source": [
        "### UNet の例\n",
        "\n",
        "8チャンネルの出力を持つ2つの隠れ層と、32チャンネルの出力を持つ最下層（ボトルネック層）からなる2D UNetネットワークを定義します。 strideの値は、最初のコンボリューションのストライドを示します。\n"
      ]
    },
    {
      "cell_type": "code",
      "execution_count": null,
      "metadata": {
        "id": "sGuRFmfRY5sv"
      },
      "outputs": [],
      "source": [
        "net = monai.networks.nets.UNet(\n",
        "    dimensions=2,  # 2 or 3 for a 2D or 3D network\n",
        "    in_channels=1,  # number of input channels\n",
        "    out_channels=1,  # number of output channels\n",
        "    channels=[8, 16, 32],  # channel counts for layers\n",
        "    strides=[2, 2]  # strides for mid layers\n",
        ")"
      ]
    },
    {
      "cell_type": "markdown",
      "metadata": {
        "id": "0J62T3LvY5sv"
      },
      "source": [
        "ここでは、デフォルトのPReLUの代わりにリーキーReLUの活性化を持つ4層3D UNetを定義することにします。 今回はアクティベーション・レイヤー・ファクトリーであるActパラメータをインスタンス化し、LEAKYRELUのような既知のアクティベーション・レイヤーの名前を呼び出すことにします。 すべてのファクトリーにカスタムレイヤーを追加することができます。"
      ]
    },
    {
      "cell_type": "code",
      "execution_count": null,
      "metadata": {
        "id": "idSOJtiDY5sv"
      },
      "outputs": [],
      "source": [
        "net = monai.networks.nets.UNet(\n",
        "    dimensions=3,  \n",
        "    in_channels=1,      \n",
        "    out_channels=1,  \n",
        "    channels=[8, 16, 32, 64],\n",
        "    strides=[2, 2, 2],\n",
        "    act=monai.networks.layers.Act.LEAKYRELU\n",
        ")"
      ]
    },
    {
      "cell_type": "markdown",
      "metadata": {
        "id": "HUw5gFB4Y5sv"
      },
      "source": [
        "### ワークフロー\n",
        "\n",
        "MONAIはIgnite Engineのクラスを拡張しています。 これらのワークフローオブジェクトは、トレーニングプロセスの大部分を網羅し、デフォルトのトレーニングループとイベントへの応答メカニズムを提供します。 これは、各実験で書かなければならないコードの複雑さと量を減らすのに役立ち、完全にオプションのモジュールであり、代わりにLightningやCatalystなどの他のフレームワークを使用することができます。\n"
      ]
    },
    {
      "cell_type": "markdown",
      "metadata": {
        "id": "gMl0WUILY5sw"
      },
      "source": [
        "## **まとめ**\n",
        "\n",
        "MONAIデータセット、キャッシング、ネットワークについて説明しました。 以下はその主な内容です：\n",
        "\n",
        "- MONAIデータセットは、一般的なデータセットで、lenプロパティ、getitemプロパティ、データサンプルを取得する際のオプションとして呼び出し可能なデータ変換を持ちます。\n",
        "- データセットキャッシングを使用すると、データセット変換を保存して、学習を高速化することができます。 キャッシュのオプションには、CachingDataset、PersistentCaching、SmartCachingがあります。\n",
        "- MONAIは、DecathlonDatasetを含む、一般的に使用されている医療画像データセットへのアクセスを提供します。\n",
        "- 基本的なMONAIのレイヤー、ブロック、ネットワークを理解する。\n",
        "- MONAIレイヤーを使って、柔軟なネットワークを実装し、異なるパラメータを持つ2つのUNetの例をインスタンス化します。\n"
      ]
    },
    {
      "cell_type": "markdown",
      "metadata": {
        "id": "aMyb0tqqY5sw"
      },
      "source": [
        "## **課題１**\n",
        "\n",
        "### SmartCacheを使ったデータセットのインスタンス化\n",
        "\n",
        "要件 \n",
        "- 入力値から1を引くTransformを作成する。\n",
        "- 新しいTransformを既存のSlowSquareと結合する。\n",
        "- SmartCacheDatasetを置換率0.2、キャッシュ数5でインスタンス化する。\n",
        "- SmartCacheを5回実行し、置換後の値を確認する。"
      ]
    },
    {
      "cell_type": "code",
      "execution_count": null,
      "metadata": {
        "id": "81sUJ0XdY5sw"
      },
      "outputs": [],
      "source": [
        "from monai.data import SmartCacheDataset\n",
        "from monai.transforms import Compose, MapTransform\n",
        "\n",
        "class MinusOne(MapTransform):\n",
        "    def __init__(self, keys):\n",
        "        MapTransform.__init__(self, keys)\n",
        "        print(f\"keys to minus from: {self.keys}\")\n",
        "\n",
        "    def __call__(self, x):\n",
        "        output = {key: x[key] - 1 for key in self.keys}\n",
        "        return output\n",
        "\n",
        "smart_transform = Compose([SlowSquare(keys='data', ), MinusOne(keys='data', )])    \n",
        "\n",
        "smart_square  = monai.data.SmartCacheDataset(\n",
        "    items, \n",
        "    transform=smart_transform, \n",
        "    replace_rate = .2,\n",
        "    cache_num=5\n",
        ")\n",
        "\n",
        "%time for item in smart_square: print(item)"
      ]
    },
    {
      "cell_type": "markdown",
      "metadata": {
        "id": "CKSUNukfY5sw"
      },
      "source": [
        "以下は、SmartCacheを利用したものです。"
      ]
    },
    {
      "cell_type": "code",
      "execution_count": null,
      "metadata": {
        "id": "AvHpysq8Y5sw"
      },
      "outputs": [],
      "source": [
        "#Run through SmartCache replacement N-times\n",
        "smart_square.start()\n",
        "\n",
        "for i in range(5):\n",
        "    print(\"\\nCache: \", i)\n",
        "    for item in smart_square: \n",
        "        print(item)\n",
        "    smart_square.update_cache()\n",
        "    \n",
        "smart_square.shutdown()"
      ]
    },
    {
      "cell_type": "markdown",
      "metadata": {
        "id": "svilhSXOY5sw"
      },
      "source": [
        "### **課題２**\n",
        "\n",
        "MONAI ライブラリからネットワークを即座に作成しなさい。その出力から、ネットワークにどのコンポーザブル層が使用されているかを確認しなさい。"
      ]
    },
    {
      "cell_type": "code",
      "execution_count": null,
      "metadata": {
        "id": "ywQgSDEDY5sw"
      },
      "outputs": [],
      "source": [
        "from monai.networks.nets import DenseNet121\n",
        "\n",
        "net = DenseNet121(\n",
        "    spatial_dims=2,\n",
        "    in_channels=2,\n",
        "    out_channels=3\n",
        ")\n",
        "print(net)"
      ]
    },
    {
      "cell_type": "markdown",
      "metadata": {
        "id": "B0LqZ0khY5sx"
      },
      "source": [
        "UNet などの一部のネットワークは、レイヤーを作成するためにテンプレート・メソッドを使用して定義されています。これらのクラスを拡張して、これらのメソッドをオーバーライドすることによって、作成されたネットワークの構成を変更する実験をしてみてください："
      ]
    },
    {
      "cell_type": "code",
      "execution_count": null,
      "metadata": {
        "id": "WeF8JbSIY5sx",
        "outputId": "36564da5-f274-4b14-c8b1-d1ae960bcc8b"
      },
      "outputs": [
        {
          "name": "stdout",
          "output_type": "stream",
          "text": [
            "MyUNet(\n",
            "  (model): Sequential(\n",
            "    (0): Conv2d(1, 2, kernel_size=(3, 3), stride=(1, 1))\n",
            "    (1): SkipConnection(\n",
            "      (submodule): Sequential(\n",
            "        (0): Conv2d(2, 4, kernel_size=(3, 3), stride=(1, 1))\n",
            "        (1): SkipConnection(\n",
            "          (submodule): Sequential(\n",
            "            (0): Conv2d(4, 8, kernel_size=(3, 3), stride=(1, 1))\n",
            "            (1): SkipConnection(\n",
            "              (submodule): Conv2d(8, 16, kernel_size=(3, 3), stride=(1, 1))\n",
            "            )\n",
            "            (2): Convolution(\n",
            "              (conv): ConvTranspose2d(24, 4, kernel_size=(3, 3), stride=(2, 2), padding=(1, 1), output_padding=(1, 1))\n",
            "              (adn): ADN(\n",
            "                (N): InstanceNorm2d(4, eps=1e-05, momentum=0.1, affine=False, track_running_stats=False)\n",
            "                (D): Dropout(p=0.0, inplace=False)\n",
            "                (A): PReLU(num_parameters=1)\n",
            "              )\n",
            "            )\n",
            "          )\n",
            "        )\n",
            "        (2): Convolution(\n",
            "          (conv): ConvTranspose2d(8, 2, kernel_size=(3, 3), stride=(2, 2), padding=(1, 1), output_padding=(1, 1))\n",
            "          (adn): ADN(\n",
            "            (N): InstanceNorm2d(2, eps=1e-05, momentum=0.1, affine=False, track_running_stats=False)\n",
            "            (D): Dropout(p=0.0, inplace=False)\n",
            "            (A): PReLU(num_parameters=1)\n",
            "          )\n",
            "        )\n",
            "      )\n",
            "    )\n",
            "    (2): Convolution(\n",
            "      (conv): ConvTranspose2d(4, 1, kernel_size=(3, 3), stride=(2, 2), padding=(1, 1), output_padding=(1, 1))\n",
            "    )\n",
            "  )\n",
            ")\n"
          ]
        }
      ],
      "source": [
        "import torch.nn as nn\n",
        "from monai.networks.layers.factories import Conv\n",
        "from monai.networks.nets import UNet\n",
        "\n",
        "\n",
        "class MyUNet(UNet):\n",
        "    def _get_down_layer(self, in_channels: int, out_channels: int, strides: int, is_top: bool) -> nn.Module:\n",
        "        conv_type = Conv[Conv.CONV, self.dimensions]\n",
        "        return conv_type(in_channels, out_channels, self.kernel_size)\n",
        "\n",
        "\n",
        "unet = MyUNet(2, 1, 1, [2, 4, 8, 16], [2, 2, 2])\n",
        "print(unet)"
      ]
    },
    {
      "cell_type": "markdown",
      "metadata": {
        "id": "rLf57sH4Y5sx"
      },
      "source": [
        "## **Next Steps**"
      ]
    },
    {
      "cell_type": "markdown",
      "metadata": {
        "id": "vhe8iQnTY5sx"
      },
      "source": [
        "次のノートブックでは、MONAIのエンドツーエンドのワークフローをカバーします。\n",
        "\n",
        "ここでカバーされている内容については、[MONAI ドキュメントページ](https://docs.monai.io/) で詳しく説明されています。 \n",
        "\n",
        "もし、もっと例やチュートリアルをお探しなら、それ専用のレポがあります!  GitHub組織ページ](https://github.com/Project-MONAI/tutorials)でご覧いただけます。"
      ]
    },
    {
      "cell_type": "code",
      "source": [],
      "metadata": {
        "id": "ldR8NxaAMs5a"
      },
      "execution_count": null,
      "outputs": []
    }
  ],
  "metadata": {
    "kernelspec": {
      "display_name": "Python [conda env:monai]",
      "language": "python",
      "name": "conda-env-monai-py"
    },
    "language_info": {
      "codemirror_mode": {
        "name": "ipython",
        "version": 3
      },
      "file_extension": ".py",
      "mimetype": "text/x-python",
      "name": "python",
      "nbconvert_exporter": "python",
      "pygments_lexer": "ipython3",
      "version": "3.8.5"
    },
    "colab": {
      "provenance": [],
      "include_colab_link": true
    }
  },
  "nbformat": 4,
  "nbformat_minor": 0
}