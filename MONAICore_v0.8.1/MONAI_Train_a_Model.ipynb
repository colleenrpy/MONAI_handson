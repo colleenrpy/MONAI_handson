{
 "cells": [
  {
   "cell_type": "code",
   "execution_count": null,
   "id": "25d643a9",
   "metadata": {},
   "outputs": [],
   "source": [
    "import os\n",
    "import numpy as np\n",
    "import matplotlib.pyplot as plt\n",
    "import monai\n",
    "import torch"
   ]
  },
  {
   "cell_type": "markdown",
   "id": "3f05ba8d",
   "metadata": {},
   "source": [
    "### Data list\n",
    "Copy your annotated data into `mydata` folder"
   ]
  },
  {
   "cell_type": "code",
   "execution_count": null,
   "id": "87557756",
   "metadata": {},
   "outputs": [],
   "source": [
    "!cp ../data/spleen_img/spleen* ./mydata/img/\n",
    "!cp ../data/spleen_seg/spleen* ./mydata/seg/"
   ]
  },
  {
   "cell_type": "code",
   "execution_count": null,
   "id": "bb6333c4",
   "metadata": {},
   "outputs": [],
   "source": [
    "keys = ['img', 'seg']\n",
    "data_dir = './mydata/'\n",
    "fns = os.listdir(data_dir+'img/')\n",
    "fnames = [{key: data_dir+key+'/'+fn for key in keys} for fn in fns]"
   ]
  },
  {
   "cell_type": "code",
   "execution_count": null,
   "id": "18888bf9",
   "metadata": {},
   "outputs": [],
   "source": [
    "fnames"
   ]
  },
  {
   "cell_type": "markdown",
   "id": "7998130f",
   "metadata": {},
   "source": [
    "### Preview"
   ]
  },
  {
   "cell_type": "code",
   "execution_count": null,
   "id": "c795cd71",
   "metadata": {},
   "outputs": [],
   "source": [
    "sample = monai.transforms.LoadImaged(keys)(fnames[0])\n",
    "sample['img'].shape"
   ]
  },
  {
   "cell_type": "code",
   "execution_count": null,
   "id": "d7b6b36e",
   "metadata": {},
   "outputs": [],
   "source": [
    "from IPython.display import clear_output\n",
    "import time\n",
    "\n",
    "vmax = sample['img'].max()\n",
    "vmin = sample['img'].min()\n",
    "for i in range(sample['img'].shape[-1]):\n",
    "    plt.figure(figsize=(8, 4))\n",
    "    plt.subplot(121)\n",
    "    plt.imshow(sample['img'][..., i], cmap='gray', vmax=vmax, vmin=vmin)\n",
    "    plt.subplot(122)\n",
    "    plt.imshow(sample['seg'][..., i], cmap='gray')\n",
    "    plt.show()\n",
    "    clear_output(wait=True)"
   ]
  },
  {
   "cell_type": "markdown",
   "id": "0077e3b7",
   "metadata": {},
   "source": [
    "### Transforms"
   ]
  },
  {
   "cell_type": "code",
   "execution_count": null,
   "id": "f5f892a0",
   "metadata": {},
   "outputs": [],
   "source": [
    "### Fix the dictionary transformation ###\n",
    "spatial_size = [128, 128, 16]\n",
    "trans = monai.transforms.Compose([monai.transforms.LoadImaged(), \n",
    "                                  monai.transforms.AddChanneld(), \n",
    "                                  monai.transforms.EnsureTyped(),\n",
    "                                  monai.transforms.ToDeviced(),\n",
    "                                  monai.transforms.NormalizeIntensityd(),\n",
    "                                  monai.transforms.Resized(),\n",
    "                                  monai.transforms.RandScaleIntensityd(),\n",
    "                                  monai.transforms.RandFlipd()])"
   ]
  },
  {
   "cell_type": "code",
   "execution_count": null,
   "id": "8a4b7627",
   "metadata": {},
   "outputs": [],
   "source": [
    "data = trans(fnames[0])\n",
    "data['img'].shape, data['seg'].shape"
   ]
  },
  {
   "cell_type": "markdown",
   "id": "0fb5893d",
   "metadata": {},
   "source": [
    "### Dataset and DataLoader"
   ]
  },
  {
   "cell_type": "code",
   "execution_count": null,
   "id": "6e8259d0",
   "metadata": {},
   "outputs": [],
   "source": [
    "### Fix the CacheDataset ###\n",
    "ds = monai.data.CacheDataset()\n",
    "for data in ds: print(data['img'].shape, data['seg'].shape)"
   ]
  },
  {
   "cell_type": "code",
   "execution_count": null,
   "id": "40e192b7",
   "metadata": {},
   "outputs": [],
   "source": [
    "dl = torch.utils.data.DataLoader(ds, batch_size=1)\n",
    "for data in dl: print(data['img'].shape, data['seg'].shape)"
   ]
  },
  {
   "cell_type": "markdown",
   "id": "e51fa1be",
   "metadata": {},
   "source": [
    "### Network, loss and optimizer"
   ]
  },
  {
   "cell_type": "code",
   "execution_count": null,
   "id": "b3fe67fe",
   "metadata": {},
   "outputs": [],
   "source": [
    "### Fix the UNet\n",
    "device = torch.device(\"cuda:0\")\n",
    "\n",
    "net = monai.networks.nets.UNet(\n",
    "    dimensions=,  # 2 or 3 for a 2D or 3D network\n",
    "    in_channels=,  # number of input channels\n",
    "    out_channels=,  # number of output channels\n",
    "    channels=[16, 32, 64, 128],  # channel counts for layers\n",
    "    strides=[2, 2, 2]  # strides for mid layers\n",
    ").to(device)\n",
    "\n",
    "net(data['img']).shape"
   ]
  },
  {
   "cell_type": "code",
   "execution_count": null,
   "id": "bbf97780",
   "metadata": {},
   "outputs": [],
   "source": [
    "loss_function = monai.losses.DiceLoss(sigmoid=True)\n",
    "optimizer = torch.optim.Adam(net.parameters(), 5e-4)"
   ]
  },
  {
   "cell_type": "markdown",
   "id": "c0894c4e",
   "metadata": {},
   "source": [
    "### Training"
   ]
  },
  {
   "cell_type": "code",
   "execution_count": null,
   "id": "89269dfc",
   "metadata": {
    "scrolled": true
   },
   "outputs": [],
   "source": [
    "max_epochs = 200\n",
    "epoch_loss_values = []\n",
    "\n",
    "net.train()\n",
    "for epoch in range(max_epochs):\n",
    "    print('Epoch: '+str(epoch+1)+'/'+str(max_epochs))\n",
    "    epoch_loss = 0\n",
    "    for step, batch_data in enumerate(dl):\n",
    "        inputs, labels = (\n",
    "            batch_data[\"img\"],\n",
    "            batch_data[\"seg\"]\n",
    "        )\n",
    "        optimizer.zero_grad()\n",
    "        outputs = net(inputs)\n",
    "        loss = loss_function(outputs, labels)\n",
    "        loss.backward()\n",
    "        optimizer.step()\n",
    "        epoch_loss += loss.item()\n",
    "        print('  Step '+str(step+1)+'/'+str(len(dl))+f', train_loss: {loss.item():.4f}')\n",
    "    epoch_loss /= (step+1)\n",
    "    epoch_loss_values.append(epoch_loss)"
   ]
  },
  {
   "cell_type": "code",
   "execution_count": null,
   "id": "f69e7247",
   "metadata": {},
   "outputs": [],
   "source": [
    "plt.figure(figsize=(16, 4))\n",
    "plt.plot(epoch_loss_values)"
   ]
  },
  {
   "cell_type": "code",
   "execution_count": null,
   "id": "a9984f62",
   "metadata": {},
   "outputs": [],
   "source": []
  }
 ],
 "metadata": {
  "kernelspec": {
   "display_name": "Python 3 (ipykernel)",
   "language": "python",
   "name": "python3"
  },
  "language_info": {
   "codemirror_mode": {
    "name": "ipython",
    "version": 3
   },
   "file_extension": ".py",
   "mimetype": "text/x-python",
   "name": "python",
   "nbconvert_exporter": "python",
   "pygments_lexer": "ipython3",
   "version": "3.8.12"
  }
 },
 "nbformat": 4,
 "nbformat_minor": 5
}
