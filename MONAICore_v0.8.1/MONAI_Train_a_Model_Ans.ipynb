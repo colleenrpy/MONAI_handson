{
 "cells": [
  {
   "cell_type": "code",
   "execution_count": null,
   "id": "d2c193c7",
   "metadata": {},
   "outputs": [],
   "source": [
    "import os\n",
    "import numpy as np\n",
    "import matplotlib.pyplot as plt\n",
    "import monai\n",
    "import torch"
   ]
  },
  {
   "cell_type": "markdown",
   "id": "608d8572",
   "metadata": {},
   "source": [
    "### Data list\n",
    "Copy your annotated data into `mydata` folder"
   ]
  },
  {
   "cell_type": "code",
   "execution_count": null,
   "id": "dbd8c668",
   "metadata": {},
   "outputs": [],
   "source": [
    "!cp ../data/spleen_img/spleen* ./mydata/img/\n",
    "!cp ../data/spleen_seg/spleen* ./mydata/seg/"
   ]
  },
  {
   "cell_type": "code",
   "execution_count": null,
   "id": "111613ef",
   "metadata": {},
   "outputs": [],
   "source": [
    "keys = ['img', 'seg']\n",
    "data_dir = './mydata/'\n",
    "fns = os.listdir(data_dir+'img/')\n",
    "fnames = [{key: data_dir+key+'/'+fn for key in keys} for fn in fns]"
   ]
  },
  {
   "cell_type": "code",
   "execution_count": null,
   "id": "80c93771",
   "metadata": {},
   "outputs": [],
   "source": [
    "fnames"
   ]
  },
  {
   "cell_type": "markdown",
   "id": "00eee963",
   "metadata": {},
   "source": [
    "### Preview"
   ]
  },
  {
   "cell_type": "code",
   "execution_count": null,
   "id": "f5504962",
   "metadata": {},
   "outputs": [],
   "source": [
    "sample = monai.transforms.LoadImaged(keys)(fnames[0])\n",
    "sample['img'].shape"
   ]
  },
  {
   "cell_type": "code",
   "execution_count": null,
   "id": "2b9119c6",
   "metadata": {},
   "outputs": [],
   "source": [
    "from IPython.display import clear_output\n",
    "import time\n",
    "\n",
    "vmax = sample['img'].max()\n",
    "vmin = sample['img'].min()\n",
    "for i in range(sample['img'].shape[-1]):\n",
    "    plt.figure(figsize=(8, 4))\n",
    "    plt.subplot(121)\n",
    "    plt.imshow(sample['img'][..., i], cmap='gray', vmax=vmax, vmin=vmin)\n",
    "    plt.subplot(122)\n",
    "    plt.imshow(sample['seg'][..., i], cmap='gray')\n",
    "    plt.show()\n",
    "    clear_output(wait=True)"
   ]
  },
  {
   "cell_type": "markdown",
   "id": "b563d278",
   "metadata": {},
   "source": [
    "### Transforms"
   ]
  },
  {
   "cell_type": "code",
   "execution_count": null,
   "id": "3e1b72fe",
   "metadata": {},
   "outputs": [],
   "source": [
    "spatial_size = [128, 128, 16]\n",
    "trans = monai.transforms.Compose([monai.transforms.LoadImaged(keys), \n",
    "                                  monai.transforms.AddChanneld(keys), \n",
    "                                  monai.transforms.EnsureTyped(keys),\n",
    "                                  monai.transforms.ToDeviced(keys, device='cuda:0'),\n",
    "                                  monai.transforms.NormalizeIntensityd(keys='img'),\n",
    "                                  monai.transforms.Resized(keys, spatial_size=spatial_size, mode=['area', 'nearest']),\n",
    "                                  monai.transforms.RandScaleIntensityd(keys, 0.2, prob=0.5),\n",
    "                                  monai.transforms.RandFlipd(keys, prob=0.5)])"
   ]
  },
  {
   "cell_type": "code",
   "execution_count": null,
   "id": "f71a2709",
   "metadata": {},
   "outputs": [],
   "source": [
    "data = trans(fnames[0])\n",
    "data['img'].shape, data['seg'].shape"
   ]
  },
  {
   "cell_type": "markdown",
   "id": "ecbeebfe",
   "metadata": {},
   "source": [
    "### Dataset and DataLoader"
   ]
  },
  {
   "cell_type": "code",
   "execution_count": null,
   "id": "8bf9d2c5",
   "metadata": {},
   "outputs": [],
   "source": [
    "ds = monai.data.CacheDataset(fnames, transform=trans)"
   ]
  },
  {
   "cell_type": "code",
   "execution_count": null,
   "id": "a1eb0046",
   "metadata": {},
   "outputs": [],
   "source": [
    "for data in ds: print(data['img'].shape, data['seg'].shape)"
   ]
  },
  {
   "cell_type": "code",
   "execution_count": null,
   "id": "f8a959bc",
   "metadata": {},
   "outputs": [],
   "source": [
    "dl = torch.utils.data.DataLoader(ds, batch_size=1)\n",
    "for data in dl: print(data['img'].shape, data['seg'].shape)"
   ]
  },
  {
   "cell_type": "markdown",
   "id": "41c5b029",
   "metadata": {},
   "source": [
    "### Network, loss and optimizer"
   ]
  },
  {
   "cell_type": "code",
   "execution_count": null,
   "id": "3bf7924b",
   "metadata": {},
   "outputs": [],
   "source": [
    "device = torch.device(\"cuda:0\")\n",
    "\n",
    "net = monai.networks.nets.UNet(\n",
    "    dimensions=3,  # 2 or 3 for a 2D or 3D network\n",
    "    in_channels=1,  # number of input channels\n",
    "    out_channels=1,  # number of output channels\n",
    "    channels=[16, 32, 64, 128],  # channel counts for layers\n",
    "    strides=[2, 2, 2]  # strides for mid layers\n",
    ").to(device)\n",
    "\n",
    "net(data['img']).shape"
   ]
  },
  {
   "cell_type": "code",
   "execution_count": null,
   "id": "88d3530b",
   "metadata": {},
   "outputs": [],
   "source": [
    "loss_function = monai.losses.DiceLoss(sigmoid=True)\n",
    "optimizer = torch.optim.Adam(net.parameters(), 5e-4)"
   ]
  },
  {
   "cell_type": "markdown",
   "id": "aa95262f",
   "metadata": {},
   "source": [
    "### Training"
   ]
  },
  {
   "cell_type": "code",
   "execution_count": null,
   "id": "b5a44384",
   "metadata": {
    "scrolled": true
   },
   "outputs": [],
   "source": [
    "max_epochs = 200\n",
    "epoch_loss_values = []\n",
    "\n",
    "net.train()\n",
    "for epoch in range(max_epochs):\n",
    "    print('Epoch: '+str(epoch+1)+'/'+str(max_epochs))\n",
    "    epoch_loss = 0\n",
    "    for step, batch_data in enumerate(dl):\n",
    "        inputs, labels = (\n",
    "            batch_data[\"img\"],\n",
    "            batch_data[\"seg\"]\n",
    "        )\n",
    "        optimizer.zero_grad()\n",
    "        outputs = net(inputs)\n",
    "        loss = loss_function(outputs, labels)\n",
    "        loss.backward()\n",
    "        optimizer.step()\n",
    "        epoch_loss += loss.item()\n",
    "        print('  Step '+str(step+1)+'/'+str(len(dl))+f', train_loss: {loss.item():.4f}')\n",
    "    epoch_loss /= (step+1)\n",
    "    epoch_loss_values.append(epoch_loss)"
   ]
  },
  {
   "cell_type": "code",
   "execution_count": null,
   "id": "f01223b8",
   "metadata": {},
   "outputs": [],
   "source": [
    "plt.figure(figsize=(16, 4))\n",
    "plt.plot(epoch_loss_values)"
   ]
  },
  {
   "cell_type": "code",
   "execution_count": null,
   "id": "79325f8a",
   "metadata": {},
   "outputs": [],
   "source": []
  }
 ],
 "metadata": {
  "kernelspec": {
   "display_name": "Python 3 (ipykernel)",
   "language": "python",
   "name": "python3"
  },
  "language_info": {
   "codemirror_mode": {
    "name": "ipython",
    "version": 3
   },
   "file_extension": ".py",
   "mimetype": "text/x-python",
   "name": "python",
   "nbconvert_exporter": "python",
   "pygments_lexer": "ipython3",
   "version": "3.8.12"
  }
 },
 "nbformat": 4,
 "nbformat_minor": 5
}
