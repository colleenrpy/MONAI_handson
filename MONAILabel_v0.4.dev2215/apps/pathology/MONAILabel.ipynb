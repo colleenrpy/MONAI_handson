{
 "cells": [
  {
   "cell_type": "markdown",
   "id": "8dc13cfd",
   "metadata": {},
   "source": [
    "## Dataset"
   ]
  },
  {
   "cell_type": "code",
   "execution_count": null,
   "id": "0298a762",
   "metadata": {},
   "outputs": [],
   "source": [
    "!cp ../data/spleen_img/* ./spleen/"
   ]
  },
  {
   "cell_type": "markdown",
   "id": "0e9f96bf",
   "metadata": {},
   "source": [
    "## MONAI Label Sample APP"
   ]
  },
  {
   "cell_type": "code",
   "execution_count": 1,
   "id": "7e9a92a8",
   "metadata": {},
   "outputs": [
    {
     "name": "stdout",
     "output_type": "stream",
     "text": [
      "Using PYTHONPATH=/opt:\n",
      "Directory already exists: /workshop/src/MONAILabel_v0.4.dev2215/apps/pathology\n"
     ]
    }
   ],
   "source": [
    "!monailabel apps --name pathology --download --output apps"
   ]
  },
  {
   "cell_type": "code",
   "execution_count": 2,
   "id": "0d0a1b74",
   "metadata": {},
   "outputs": [
    {
     "name": "stdout",
     "output_type": "stream",
     "text": [
      "Using PYTHONPATH=/opt:\n",
      "radiology is copied at: /workshop/src/MONAI_Workshop_202205/MONAILabel_v0.4.dev2215/apps/radiology\n"
     ]
    }
   ],
   "source": [
    "!monailabel apps --name radiology --download --output apps"
   ]
  },
  {
   "cell_type": "markdown",
   "id": "ab83ccaa",
   "metadata": {},
   "source": [
    "## Start the Server"
   ]
  },
  {
   "cell_type": "code",
   "execution_count": 2,
   "id": "cb3151cc",
   "metadata": {
    "scrolled": true
   },
   "outputs": [
    {
     "name": "stdout",
     "output_type": "stream",
     "text": [
      "Using PYTHONPATH=/opt:\n",
      "[2022-08-10 01:25:56,058] [1352] [MainThread] [INFO] (__main__:269) - USING:: app = /workshop/src/MONAILabel_v0.4.dev2215/apps/pathology\n",
      "[2022-08-10 01:25:56,058] [1352] [MainThread] [INFO] (__main__:269) - USING:: studies = /workshop/src/MONAILabel_v0.4.dev2215/sample_wsi\n",
      "[2022-08-10 01:25:56,058] [1352] [MainThread] [INFO] (__main__:269) - USING:: verbose = INFO\n",
      "[2022-08-10 01:25:56,058] [1352] [MainThread] [INFO] (__main__:269) - USING:: conf = None\n",
      "[2022-08-10 01:25:56,059] [1352] [MainThread] [INFO] (__main__:269) - USING:: host = 0.0.0.0\n",
      "[2022-08-10 01:25:56,059] [1352] [MainThread] [INFO] (__main__:269) - USING:: port = 8000\n",
      "[2022-08-10 01:25:56,059] [1352] [MainThread] [INFO] (__main__:269) - USING:: uvicorn_app = monailabel.app:app\n",
      "[2022-08-10 01:25:56,059] [1352] [MainThread] [INFO] (__main__:269) - USING:: ssl_keyfile = None\n",
      "[2022-08-10 01:25:56,059] [1352] [MainThread] [INFO] (__main__:269) - USING:: ssl_certfile = None\n",
      "[2022-08-10 01:25:56,059] [1352] [MainThread] [INFO] (__main__:269) - USING:: ssl_keyfile_password = None\n",
      "[2022-08-10 01:25:56,059] [1352] [MainThread] [INFO] (__main__:269) - USING:: ssl_ca_certs = None\n",
      "[2022-08-10 01:25:56,059] [1352] [MainThread] [INFO] (__main__:269) - USING:: workers = None\n",
      "[2022-08-10 01:25:56,059] [1352] [MainThread] [INFO] (__main__:269) - USING:: limit_concurrency = None\n",
      "[2022-08-10 01:25:56,059] [1352] [MainThread] [INFO] (__main__:269) - USING:: access_log = False\n",
      "[2022-08-10 01:25:56,059] [1352] [MainThread] [INFO] (__main__:269) - USING:: log_config = None\n",
      "[2022-08-10 01:25:56,059] [1352] [MainThread] [INFO] (__main__:269) - USING:: dryrun = False\n",
      "[2022-08-10 01:25:56,059] [1352] [MainThread] [INFO] (__main__:269) - USING:: action = start_server\n",
      "[2022-08-10 01:25:56,059] [1352] [MainThread] [INFO] (__main__:273) - ENV SETTINGS:: MONAI_LABEL_API_STR = \n",
      "[2022-08-10 01:25:56,059] [1352] [MainThread] [INFO] (__main__:273) - ENV SETTINGS:: MONAI_LABEL_PROJECT_NAME = MONAILabel\n",
      "[2022-08-10 01:25:56,059] [1352] [MainThread] [INFO] (__main__:273) - ENV SETTINGS:: MONAI_LABEL_APP_DIR = \n",
      "[2022-08-10 01:25:56,059] [1352] [MainThread] [INFO] (__main__:273) - ENV SETTINGS:: MONAI_LABEL_STUDIES = \n",
      "[2022-08-10 01:25:56,059] [1352] [MainThread] [INFO] (__main__:273) - ENV SETTINGS:: MONAI_LABEL_AUTH_ENABLE = False\n",
      "[2022-08-10 01:25:56,060] [1352] [MainThread] [INFO] (__main__:273) - ENV SETTINGS:: MONAI_LABEL_AUTH_DB = \n",
      "[2022-08-10 01:25:56,060] [1352] [MainThread] [INFO] (__main__:273) - ENV SETTINGS:: MONAI_LABEL_APP_CONF = '{}'\n",
      "[2022-08-10 01:25:56,060] [1352] [MainThread] [INFO] (__main__:273) - ENV SETTINGS:: MONAI_LABEL_TASKS_TRAIN = True\n",
      "[2022-08-10 01:25:56,060] [1352] [MainThread] [INFO] (__main__:273) - ENV SETTINGS:: MONAI_LABEL_TASKS_STRATEGY = True\n",
      "[2022-08-10 01:25:56,060] [1352] [MainThread] [INFO] (__main__:273) - ENV SETTINGS:: MONAI_LABEL_TASKS_SCORING = True\n",
      "[2022-08-10 01:25:56,060] [1352] [MainThread] [INFO] (__main__:273) - ENV SETTINGS:: MONAI_LABEL_TASKS_BATCH_INFER = True\n",
      "[2022-08-10 01:25:56,060] [1352] [MainThread] [INFO] (__main__:273) - ENV SETTINGS:: MONAI_LABEL_DATASTORE = \n",
      "[2022-08-10 01:25:56,060] [1352] [MainThread] [INFO] (__main__:273) - ENV SETTINGS:: MONAI_LABEL_DATASTORE_USERNAME = \n",
      "[2022-08-10 01:25:56,060] [1352] [MainThread] [INFO] (__main__:273) - ENV SETTINGS:: MONAI_LABEL_DATASTORE_PASSWORD = \n",
      "[2022-08-10 01:25:56,060] [1352] [MainThread] [INFO] (__main__:273) - ENV SETTINGS:: MONAI_LABEL_DATASTORE_API_KEY = \n",
      "[2022-08-10 01:25:56,060] [1352] [MainThread] [INFO] (__main__:273) - ENV SETTINGS:: MONAI_LABEL_DATASTORE_CACHE_PATH = \n",
      "[2022-08-10 01:25:56,060] [1352] [MainThread] [INFO] (__main__:273) - ENV SETTINGS:: MONAI_LABEL_DATASTORE_PROJECT = \n",
      "[2022-08-10 01:25:56,060] [1352] [MainThread] [INFO] (__main__:273) - ENV SETTINGS:: MONAI_LABEL_DATASTORE_ASSET_PATH = \n",
      "[2022-08-10 01:25:56,060] [1352] [MainThread] [INFO] (__main__:273) - ENV SETTINGS:: MONAI_LABEL_DATASTORE_DSA_ANNOTATION_GROUPS = \n",
      "[2022-08-10 01:25:56,060] [1352] [MainThread] [INFO] (__main__:273) - ENV SETTINGS:: MONAI_LABEL_DICOMWEB_USERNAME = \n",
      "[2022-08-10 01:25:56,060] [1352] [MainThread] [INFO] (__main__:273) - ENV SETTINGS:: MONAI_LABEL_DICOMWEB_PASSWORD = \n",
      "[2022-08-10 01:25:56,060] [1352] [MainThread] [INFO] (__main__:273) - ENV SETTINGS:: MONAI_LABEL_DICOMWEB_CACHE_PATH = \n",
      "[2022-08-10 01:25:56,060] [1352] [MainThread] [INFO] (__main__:273) - ENV SETTINGS:: MONAI_LABEL_QIDO_PREFIX = \n",
      "[2022-08-10 01:25:56,060] [1352] [MainThread] [INFO] (__main__:273) - ENV SETTINGS:: MONAI_LABEL_WADO_PREFIX = \n",
      "[2022-08-10 01:25:56,060] [1352] [MainThread] [INFO] (__main__:273) - ENV SETTINGS:: MONAI_LABEL_STOW_PREFIX = \n",
      "[2022-08-10 01:25:56,060] [1352] [MainThread] [INFO] (__main__:273) - ENV SETTINGS:: MONAI_LABEL_DICOMWEB_FETCH_BY_FRAME = False\n",
      "[2022-08-10 01:25:56,061] [1352] [MainThread] [INFO] (__main__:273) - ENV SETTINGS:: MONAI_LABEL_DATASTORE_AUTO_RELOAD = True\n",
      "[2022-08-10 01:25:56,061] [1352] [MainThread] [INFO] (__main__:273) - ENV SETTINGS:: MONAI_LABEL_DATASTORE_FILE_EXT = '[\"*.nii.gz\", \"*.nii\", \"*.nrrd\", \"*.jpg\", \"*.png\", \"*.tif\", \"*.svs\", \"*.xml\"]'\n",
      "[2022-08-10 01:25:56,061] [1352] [MainThread] [INFO] (__main__:273) - ENV SETTINGS:: MONAI_LABEL_SERVER_PORT = 8000\n",
      "[2022-08-10 01:25:56,061] [1352] [MainThread] [INFO] (__main__:273) - ENV SETTINGS:: MONAI_LABEL_CORS_ORIGINS = '[]'\n",
      "[2022-08-10 01:25:56,061] [1352] [MainThread] [INFO] (__main__:273) - ENV SETTINGS:: MONAI_LABEL_SESSIONS = True\n",
      "[2022-08-10 01:25:56,061] [1352] [MainThread] [INFO] (__main__:273) - ENV SETTINGS:: MONAI_LABEL_SESSION_PATH = \n",
      "[2022-08-10 01:25:56,061] [1352] [MainThread] [INFO] (__main__:273) - ENV SETTINGS:: MONAI_LABEL_SESSION_EXPIRY = 3600\n",
      "[2022-08-10 01:25:56,061] [1352] [MainThread] [INFO] (__main__:273) - ENV SETTINGS:: MONAI_LABEL_INFER_CONCURRENCY = -1\n",
      "[2022-08-10 01:25:56,061] [1352] [MainThread] [INFO] (__main__:273) - ENV SETTINGS:: MONAI_LABEL_INFER_TIMEOUT = 600\n",
      "[2022-08-10 01:25:56,061] [1352] [MainThread] [INFO] (__main__:273) - ENV SETTINGS:: MONAI_LABEL_AUTO_UPDATE_SCORING = True\n",
      "[2022-08-10 01:25:56,061] [1352] [MainThread] [INFO] (__main__:274) - \n",
      "Allow Origins: ['*']\n",
      "[2022-08-10 01:25:56,555] [1352] [MainThread] [INFO] (uvicorn.error:75) - Started server process [1352]\n",
      "[2022-08-10 01:25:56,555] [1352] [MainThread] [INFO] (uvicorn.error:45) - Waiting for application startup.\n",
      "[2022-08-10 01:25:56,556] [1352] [MainThread] [INFO] (monailabel.interfaces.utils.app:38) - Initializing App from: /workshop/src/MONAILabel_v0.4.dev2215/apps/pathology; studies: /workshop/src/MONAILabel_v0.4.dev2215/sample_wsi; conf: {}\n",
      "[2022-08-10 01:25:56,558] [1352] [MainThread] [INFO] (monailabel.utils.others.class_utils:36) - Subclass for MONAILabelApp Found: <class 'main.MyApp'>\n",
      "[2022-08-10 01:25:56,564] [1352] [MainThread] [ERROR] (uvicorn.error:119) - Traceback (most recent call last):\n",
      "  File \"/opt/conda/lib/python3.8/site-packages/starlette/routing.py\", line 635, in lifespan\n",
      "    async with self.lifespan_context(app):\n",
      "  File \"/opt/conda/lib/python3.8/site-packages/starlette/routing.py\", line 530, in __aenter__\n",
      "    await self._router.startup()\n",
      "  File \"/opt/conda/lib/python3.8/site-packages/starlette/routing.py\", line 612, in startup\n",
      "    await handler()\n",
      "  File \"/opt/conda/lib/python3.8/site-packages/monailabel/app.py\", line 104, in startup_event\n",
      "    instance = app_instance()\n",
      "  File \"/opt/conda/lib/python3.8/site-packages/monailabel/interfaces/utils/app.py\", line 51, in app_instance\n",
      "    app = c(app_dir=app_dir, studies=studies, conf=conf)\n",
      "  File \"/workshop/src/MONAILabel_v0.4.dev2215/apps/pathology/main.py\", line 41, in __init__\n",
      "    for c in get_class_names(lib.configs, \"TaskConfig\"):\n",
      "  File \"/opt/conda/lib/python3.8/site-packages/monailabel/utils/others/class_utils.py\", line 143, in get_class_names\n",
      "    module = importlib.import_module(\".\" + name, package=current_module_name)\n",
      "  File \"/opt/conda/lib/python3.8/importlib/__init__.py\", line 127, in import_module\n",
      "    return _bootstrap._gcd_import(name[level:], package, level)\n",
      "  File \"<frozen importlib._bootstrap>\", line 1014, in _gcd_import\n",
      "  File \"<frozen importlib._bootstrap>\", line 991, in _find_and_load\n",
      "  File \"<frozen importlib._bootstrap>\", line 975, in _find_and_load_unlocked\n",
      "  File \"<frozen importlib._bootstrap>\", line 671, in _load_unlocked\n",
      "  File \"<frozen importlib._bootstrap_external>\", line 843, in exec_module\n",
      "  File \"<frozen importlib._bootstrap>\", line 219, in _call_with_frames_removed\n",
      "  File \"/workshop/src/MONAILabel_v0.4.dev2215/apps/pathology/lib/configs/segmentation_nuclei.py\", line 18, in <module>\n",
      "    import lib.infers\n",
      "  File \"/workshop/src/MONAILabel_v0.4.dev2215/apps/pathology/lib/infers/__init__.py\", line 12, in <module>\n",
      "    from .deepedit_nuclei import DeepEditNuclei\n",
      "  File \"/workshop/src/MONAILabel_v0.4.dev2215/apps/pathology/lib/infers/deepedit_nuclei.py\", line 16, in <module>\n",
      "    from lib.transforms import AddClickGuidanced, AddClickGuidanceSignald, LoadImagePatchd, PostFilterLabeld\n",
      "  File \"/workshop/src/MONAILabel_v0.4.dev2215/apps/pathology/lib/transforms.py\", line 16, in <module>\n",
      "    import openslide\n",
      "  File \"/opt/conda/lib/python3.8/site-packages/openslide/__init__.py\", line 35, in <module>\n",
      "    from openslide import lowlevel\n",
      "  File \"/opt/conda/lib/python3.8/site-packages/openslide/lowlevel.py\", line 60, in <module>\n",
      "    _lib = cdll.LoadLibrary('libopenslide.so.0')\n",
      "  File \"/opt/conda/lib/python3.8/ctypes/__init__.py\", line 451, in LoadLibrary\n",
      "    return self._dlltype(name)\n",
      "  File \"/opt/conda/lib/python3.8/ctypes/__init__.py\", line 373, in __init__\n",
      "    self._handle = _dlopen(self._name, mode)\n",
      "OSError: libopenslide.so.0: cannot open shared object file: No such file or directory\n",
      "\n",
      "[2022-08-10 01:25:56,565] [1352] [MainThread] [ERROR] (uvicorn.error:56) - Application startup failed. Exiting.\n"
     ]
    }
   ],
   "source": [
    "!monailabel start_server --app apps/pathology --studies sample_wsi"
   ]
  },
  {
   "cell_type": "code",
   "execution_count": null,
   "id": "012249f7",
   "metadata": {},
   "outputs": [],
   "source": []
  }
 ],
 "metadata": {
  "kernelspec": {
   "display_name": "Python 3 (ipykernel)",
   "language": "python",
   "name": "python3"
  },
  "language_info": {
   "codemirror_mode": {
    "name": "ipython",
    "version": 3
   },
   "file_extension": ".py",
   "mimetype": "text/x-python",
   "name": "python",
   "nbconvert_exporter": "python",
   "pygments_lexer": "ipython3",
   "version": "3.8.12"
  }
 },
 "nbformat": 4,
 "nbformat_minor": 5
}
